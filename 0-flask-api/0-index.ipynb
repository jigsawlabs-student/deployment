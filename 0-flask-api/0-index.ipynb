{
 "cells": [
  {
   "cell_type": "markdown",
   "metadata": {},
   "source": [
    "# Building a Flask API"
   ]
  },
  {
   "cell_type": "markdown",
   "metadata": {},
   "source": [
    "### Introduction"
   ]
  },
  {
   "cell_type": "markdown",
   "metadata": {},
   "source": [
    "In this lesson, we'll get started learning how to export our model, and integrate our model into a Flask API.  Let's get started."
   ]
  },
  {
   "cell_type": "markdown",
   "metadata": {},
   "source": [
    "### Towards an API"
   ]
  },
  {
   "cell_type": "markdown",
   "metadata": {},
   "source": [
    "So next, we'll want our model to be available as an API.  What does this mean?  We'll remember that with an API, I can make a request to a website for information.  For example, with the Github jobs API, I can ask for Python jobs available remote by going to the following website."
   ]
  },
  {
   "cell_type": "markdown",
   "metadata": {},
   "source": [
    "[https://jobs.github.com/positions.json?description=python&location=remote.json](https://jobs.github.com/positions.json?description=python&location=remote.json)"
   ]
  },
  {
   "cell_type": "markdown",
   "metadata": {},
   "source": [
    "And I see something like the following:"
   ]
  },
  {
   "cell_type": "markdown",
   "metadata": {},
   "source": [
    "<img src=\"./github-api.png\" width=\"40%\">"
   ]
  },
  {
   "cell_type": "markdown",
   "metadata": {},
   "source": [
    "So for us, we'll want to build a website, our API, where someone can provide features of an observation, and our API will return a predicted classification."
   ]
  },
  {
   "cell_type": "markdown",
   "metadata": {},
   "source": [
    "### Beginning Flask"
   ]
  },
  {
   "cell_type": "markdown",
   "metadata": {},
   "source": [
    "To build our website we'll use Flask.  We can get started using the following code."
   ]
  },
  {
   "cell_type": "markdown",
   "metadata": {},
   "source": [
    "```python\n",
    "\n",
    "# app.py\n",
    "from flask import Flask\n",
    "\n",
    "app = Flask(__name__)\n",
    "\n",
    "@app.route('/')\n",
    "def index():\n",
    "    return 'hello world'\n",
    "\n",
    "if __name__ == '__main__':\n",
    "    app.run(host='0.0.0.0', port=80)\n",
    "```"
   ]
  },
  {
   "cell_type": "markdown",
   "metadata": {},
   "source": [
    "If you place the above code into a file called `app.py`, and then run the file with `python app.py`  you'll see something like the following."
   ]
  },
  {
   "cell_type": "markdown",
   "metadata": {},
   "source": [
    "<img src=\"./flask-running.png\" width=\"60%\">"
   ]
  },
  {
   "cell_type": "markdown",
   "metadata": {},
   "source": [
    "We'll run through the above code in a moment, but for now, notice that it says we are `running` on `0.0.0.0:80`.  If we go there, we should see our `'hello world'` website."
   ]
  },
  {
   "cell_type": "markdown",
   "metadata": {},
   "source": [
    "<img src=\"./hello-world.png\" width=\"40%\">"
   ]
  },
  {
   "cell_type": "markdown",
   "metadata": {},
   "source": [
    "Looks beautiful."
   ]
  },
  {
   "cell_type": "markdown",
   "metadata": {},
   "source": [
    "### Unpacking our Code"
   ]
  },
  {
   "cell_type": "markdown",
   "metadata": {},
   "source": [
    "Ok, now let's take another look at the code behind our website, and ensure that we know how it works."
   ]
  },
  {
   "cell_type": "markdown",
   "metadata": {},
   "source": [
    "```python\n",
    "from flask import Flask\n",
    "\n",
    "app = Flask(__name__)\n",
    "\n",
    "@app.route('/welcome')\n",
    "def index():\n",
    "    return 'hello world'\n",
    "\n",
    "\n",
    "app.run()\n",
    "```"
   ]
  },
  {
   "cell_type": "markdown",
   "metadata": {},
   "source": [
    "Starting from the top, we import the `Flask` method from the `flask` library.  This `Flask` method constructs a new web application for us.  To construct the Flask `app` we need to provide the name of the current module, `__name__`. \n",
    "\n",
    "> Let's not put a lot of energy into understanding `__name__` for right now.  If you'd like to learn more, you can read up on [it here](https://www.geeksforgeeks.org/__name__-special-variable-python/).\n",
    "\n",
    "Ok, so we build our flask app with the line `app = Flask(__name__)`.\n",
    "\n",
    "And then directly below, we specify that when we visit the url `/hello`, run the `index` function.  So if we visit the `http://127.0.0.1:5000/welcome`, we see `hello world`.  "
   ]
  },
  {
   "cell_type": "markdown",
   "metadata": {},
   "source": [
    "Finally, we tell a web server to start listening for requests to the website with the call `app.run()`."
   ]
  },
  {
   "cell_type": "markdown",
   "metadata": {},
   "source": [
    "### Adding another route"
   ]
  },
  {
   "cell_type": "markdown",
   "metadata": {},
   "source": [
    "To get a better understanding of how flask works.  Let's say that when we visit the `/users` path, we see the text `here are the users`.  Let's add this to our above file like so."
   ]
  },
  {
   "cell_type": "markdown",
   "metadata": {},
   "source": [
    "```python\n",
    "from flask import Flask\n",
    "\n",
    "app = Flask(__name__)\n",
    "\n",
    "@app.route('/welcome')\n",
    "def index():\n",
    "    return 'hello world'\n",
    "\n",
    "@app.route('/users')\n",
    "def users():\n",
    "    return 'here are the users'\n",
    "\n",
    "\n",
    "app.run()\n",
    "```"
   ]
  },
  {
   "cell_type": "markdown",
   "metadata": {},
   "source": [
    "So now if we visit `http://127.0.0.1:5000/users` the text `here are the users` is run, and we see the text `here are the users`.\n",
    "\n",
    "So notice that there is nothing special about the function name `users` or `index`.  What connects the path and the function that is run is simply that the `app.route('/path')` is provided directly above the function to be run."
   ]
  },
  {
   "cell_type": "markdown",
   "metadata": {},
   "source": [
    "### Summary"
   ]
  },
  {
   "cell_type": "markdown",
   "metadata": {},
   "source": [
    "In this lesson, we saw how to construct a basic flask app.  The general structure is something like the following:"
   ]
  },
  {
   "cell_type": "markdown",
   "metadata": {},
   "source": [
    "```python\n",
    "from flask import Flask\n",
    "\n",
    "app = Flask(__name__)\n",
    "\n",
    "@app.route('/welcome')\n",
    "def index():\n",
    "    return 'hello world'\n",
    "\n",
    "app.run()\n",
    "```"
   ]
  },
  {
   "cell_type": "markdown",
   "metadata": {},
   "source": [
    "Above we initialize our web application with the line `app = Flask(__name__)`.  Then we define our route, by specificying what function is run when we visit a specific url on our website.  The above, says when we visit the root url, `http://127.0.0.1:5000` followed by `welcome`, we run the `index` function, and the return value is sent back to the browser.  \n",
    "\n",
    "Next, we'll see how we can use Flask to send back a prediction from our machine learning model to a browser or end user."
   ]
  },
  {
   "cell_type": "markdown",
   "metadata": {},
   "source": [
    "### Resources"
   ]
  },
  {
   "cell_type": "markdown",
   "metadata": {},
   "source": [
    "[Simple Deploy to Cloud](https://towardsdatascience.com/simple-way-to-deploy-machine-learning-models-to-cloud-fd58b771fdcf)"
   ]
  }
 ],
 "metadata": {
  "kernelspec": {
   "display_name": "Python 3",
   "language": "python",
   "name": "python3"
  },
  "language_info": {
   "codemirror_mode": {
    "name": "ipython",
    "version": 3
   },
   "file_extension": ".py",
   "mimetype": "text/x-python",
   "name": "python",
   "nbconvert_exporter": "python",
   "pygments_lexer": "ipython3",
   "version": "3.8.3"
  }
 },
 "nbformat": 4,
 "nbformat_minor": 4
}
